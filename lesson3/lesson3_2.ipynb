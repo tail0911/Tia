{
 "cells": [
  {
   "cell_type": "code",
   "execution_count": 15,
   "metadata": {},
   "outputs": [
    {
     "name": "stdout",
     "output_type": "stream",
     "text": [
      "您的身高: 150 公分\n",
      "您的體重: 42 公斤\n",
      "您的BMI: 18.67\n"
     ]
    }
   ],
   "source": [
    "#BMI計算公式: BMI=體重(公斤)/身高2(公尺2)\n",
    "\n",
    "height=eval(input(\"請輸入身高(公分):\"))\n",
    "weight=eval(input(\"請輸入體重(公斤):\"))\n",
    "bmi= weight / (height/100) **2\n",
    "print(\"您的身高:\", height,\"公分\",sep=\" \")\n",
    "print(\"您的體重:\", weight,\"公斤\",sep=\" \")\n",
    "print(\"您的BMI:\",round(bmi,ndigits=2),sep=\" \")"
   ]
  },
  {
   "cell_type": "code",
   "execution_count": 7,
   "metadata": {},
   "outputs": [
    {
     "data": {
      "text/plain": [
       "18.6667"
      ]
     },
     "execution_count": 7,
     "metadata": {},
     "output_type": "execute_result"
    }
   ],
   "source": [
    "num1=bmi\n",
    "round(num1,ndigits=2)"
   ]
  },
  {
   "cell_type": "code",
   "execution_count": 17,
   "metadata": {},
   "outputs": [
    {
     "data": {
      "text/plain": [
       "'我的身高是162公分'"
      ]
     },
     "execution_count": 17,
     "metadata": {},
     "output_type": "execute_result"
    }
   ],
   "source": [
    "#字串插補(字串格式化)\n",
    "height=162\n",
    "#字串和變數整合成為全新的字串\n",
    "f\"我的身高是{height}公分\""
   ]
  },
  {
   "cell_type": "code",
   "execution_count": 26,
   "metadata": {},
   "outputs": [
    {
     "name": "stdout",
     "output_type": "stream",
     "text": [
      "您的身高:150公分\n",
      "您的體重:42公斤\n",
      "您的BMI:18.67\n"
     ]
    }
   ],
   "source": [
    "#BMI計算公式: BMI=體重(公斤)/身高2(公尺2)\n",
    "\n",
    "height=eval(input(\"請輸入身高(公分):\"))\n",
    "weight=eval(input(\"請輸入體重(公斤):\"))\n",
    "bmi= weight / (height/100) **2\n",
    "print(f\"您的身高:{height}公分\",)\n",
    "print(f\"您的體重:{weight}公斤\",)\n",
    "#字串格式化的格式化文字語法\n",
    "print(f\"您的BMI:{bmi:.2f}\")"
   ]
  },
  {
   "cell_type": "code",
   "execution_count": 30,
   "metadata": {},
   "outputs": [
    {
     "name": "stdout",
     "output_type": "stream",
     "text": [
      "梯形的上底:6公分,8公分,高13公分\n",
      "梯形的面積:91.00平方公分\n"
     ]
    }
   ],
   "source": [
    "#梯形公式: (上底+下底)*高/2\n",
    "上底=eval(input(\"請輸入梯形的上底(公分):\"))\n",
    "下底=eval(input(\"請輸入梯形的下底(公分):\"))\n",
    "高=eval(input(\"請輸入梯形的高(公分):\"))\n",
    "面積=(上底+下底)*高/2\n",
    "print(f\"梯形的上底:{上底}公分,{下底}公分,高{高}公分\")\n",
    "print(f\"梯形的面積:{面積:.2f}平方公分\") "
   ]
  },
  {
   "cell_type": "code",
   "execution_count": null,
   "metadata": {},
   "outputs": [],
   "source": []
  }
 ],
 "metadata": {
  "kernelspec": {
   "display_name": "Python 3",
   "language": "python",
   "name": "python3"
  },
  "language_info": {
   "codemirror_mode": {
    "name": "ipython",
    "version": 3
   },
   "file_extension": ".py",
   "mimetype": "text/x-python",
   "name": "python",
   "nbconvert_exporter": "python",
   "pygments_lexer": "ipython3",
   "version": "3.10.13"
  }
 },
 "nbformat": 4,
 "nbformat_minor": 2
}
